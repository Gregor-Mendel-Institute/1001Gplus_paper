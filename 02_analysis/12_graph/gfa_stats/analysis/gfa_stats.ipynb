{
 "cells": [
  {
   "cell_type": "code",
   "execution_count": 11,
   "id": "f90c6d13",
   "metadata": {},
   "outputs": [],
   "source": [
    "import matplotlib.pyplot as plt\n",
    "import seaborn as sns\n",
    "import numpy as np"
   ]
  },
  {
   "cell_type": "code",
   "execution_count": 12,
   "id": "225dddee",
   "metadata": {},
   "outputs": [],
   "source": [
    "graph = \"/ebio/abt6_projects9/1001g_plus_pan/data/tests/ath_20221020/data/chr1.90/chr1.fasta.gz.0eed25d.c2fac19.5c75112.smooth.final.gfa\"\n",
    "graph = \"/tmp/global2/svorbrugg/pansv_paper/org/graphs/ath.chr1.final.gfa\""
   ]
  },
  {
   "cell_type": "code",
   "execution_count": 13,
   "id": "5c55a715",
   "metadata": {},
   "outputs": [],
   "source": [
    "def read_graph(graph): \n",
    "    paths = []\n",
    "    nodes = dict()\n",
    "    edges = 0\n",
    "    with open(graph) as file: \n",
    "        for line in file.readlines(): \n",
    "            if line.startswith(\"P\"): \n",
    "                ls = line.split()\n",
    "                paths.append([ls[1], ls[2]])\n",
    "            elif line.startswith(\"S\"): \n",
    "                nodes[line.split()[1]] = len(line.split()[2])\n",
    "            elif line.startswith(\"L\"): \n",
    "                edges += 1\n",
    "    return paths, nodes, edges"
   ]
  },
  {
   "cell_type": "code",
   "execution_count": 14,
   "id": "050f9adc",
   "metadata": {},
   "outputs": [],
   "source": [
    "def analysis_paths(paths, nodes): \n",
    "    ll = 0\n",
    "    for p in paths: \n",
    "        l = [x[:-1] for x in p[1].split(\",\")]\n",
    "        ll += sum([nodes[x] for x in l])\n",
    "    return ll\n",
    "    "
   ]
  },
  {
   "cell_type": "code",
   "execution_count": 15,
   "id": "d4ee5eb8",
   "metadata": {},
   "outputs": [],
   "source": [
    "def sum_nodes(nodes): \n",
    "    return sum(nodes.values())"
   ]
  },
  {
   "cell_type": "code",
   "execution_count": 16,
   "id": "40bc3442",
   "metadata": {},
   "outputs": [],
   "source": [
    "p, n, e = read_graph(\"/tmp/global2/svorbrugg/pansv_paper/org/graphs/ath.chr1.final.gfa\")"
   ]
  },
  {
   "cell_type": "code",
   "execution_count": 17,
   "id": "88f24b2d",
   "metadata": {},
   "outputs": [],
   "source": [
    "ll = analysis_paths(p, n)"
   ]
  },
  {
   "cell_type": "code",
   "execution_count": 18,
   "id": "b8987be0",
   "metadata": {},
   "outputs": [
    {
     "data": {
      "text/plain": [
       "54558688"
      ]
     },
     "execution_count": 18,
     "metadata": {},
     "output_type": "execute_result"
    }
   ],
   "source": [
    "sum_nodes(n)"
   ]
  },
  {
   "cell_type": "code",
   "execution_count": 21,
   "id": "1782d632",
   "metadata": {},
   "outputs": [
    {
     "name": "stdout",
     "output_type": "stream",
     "text": [
      "5687120 4113833 829987717 56189613 6.76993307841928\n",
      "4207734 3042833 556134315 38901794 6.9950357226203534\n",
      "4996912 3617883 662500580 49600410 7.486847785099298\n",
      "4137929 2985640 539900411 38221809 7.079418392959883\n",
      "5154634 3724520 755496742 50773950 6.7206047594047735\n"
     ]
    }
   ],
   "source": [
    "d = [1,2,3,4,5]\n",
    "data = []\n",
    "for x in d: \n",
    "    f = \"../data/input/chr\" + str(x) + \".90/chr\" + str(x) + \".fasta.gz.4158095.c2fac19.5c75112.smooth.final.gfa\"\n",
    "    p, n, e = read_graph(f)\n",
    "    ll = analysis_paths(p,n)\n",
    "    ss = sum_nodes(n)\n",
    "    print(e, len(n), ll, ss, ss/ll*100)\n",
    "    data.append([e, len(n), ll, ss, ss/ll*100])"
   ]
  },
  {
   "cell_type": "code",
   "execution_count": 22,
   "id": "9d7feade",
   "metadata": {},
   "outputs": [],
   "source": [
    "with open(\"../data/stats_gfa.txt\", \"w\") as file: \n",
    "    print(\"edges,nodes,sequence,graph,compression\".replace(\",\", \"\\t\"), file = file)\n",
    "    for x in data: \n",
    "        print(\"\\t\".join([str(z) for z in x]), file = file)\n",
    "        "
   ]
  },
  {
   "cell_type": "code",
   "execution_count": null,
   "id": "cc79f594",
   "metadata": {},
   "outputs": [],
   "source": []
  },
  {
   "cell_type": "code",
   "execution_count": null,
   "id": "e35b5b28",
   "metadata": {},
   "outputs": [],
   "source": []
  }
 ],
 "metadata": {
  "kernelspec": {
   "display_name": "Python 3",
   "language": "python",
   "name": "python3"
  },
  "language_info": {
   "codemirror_mode": {
    "name": "ipython",
    "version": 3
   },
   "file_extension": ".py",
   "mimetype": "text/x-python",
   "name": "python",
   "nbconvert_exporter": "python",
   "pygments_lexer": "ipython3",
   "version": "3.7.3"
  }
 },
 "nbformat": 4,
 "nbformat_minor": 5
}
