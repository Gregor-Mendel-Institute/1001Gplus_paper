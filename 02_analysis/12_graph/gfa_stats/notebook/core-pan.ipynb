{
 "cells": [
  {
   "cell_type": "code",
   "execution_count": 88,
   "id": "db3a2c4a",
   "metadata": {},
   "outputs": [],
   "source": [
    "# Import libs\n",
    "import pandas as pd\n",
    "import matplotlib.pyplot as plt\n",
    "import seaborn as sns\n",
    "%matplotlib inline"
   ]
  },
  {
   "cell_type": "markdown",
   "id": "c7df1d8c",
   "metadata": {},
   "source": [
    "# Core-pan analysis\n",
    "- Based on similarity/core level\n",
    "- Different represenations\n",
    "- Similarity is defined as the number of samples in each path (counting each sample only once)\n",
    "    - Only one path -> \"1\"\n",
    "    - 2 < x > len(samples)\n",
    "    - len(samples) == core"
   ]
  },
  {
   "cell_type": "markdown",
   "id": "7342f15a",
   "metadata": {},
   "source": [
    "# All chromosomes together"
   ]
  },
  {
   "cell_type": "code",
   "execution_count": 89,
   "id": "fede5433",
   "metadata": {},
   "outputs": [],
   "source": [
    "fpath = \"../results/core/\""
   ]
  },
  {
   "cell_type": "code",
   "execution_count": 90,
   "id": "3242599c",
   "metadata": {},
   "outputs": [],
   "source": [
    "chrom = [1,2,3,4,5]"
   ]
  },
  {
   "cell_type": "code",
   "execution_count": 91,
   "id": "5c0f1cd5",
   "metadata": {},
   "outputs": [],
   "source": [
    "dfs = []\n",
    "dfs2 = []\n",
    "\n",
    "\n",
    "for x in chrom[1:]: \n",
    "    # Read the file\n",
    "    ftemp = fpath + \"/chr\" + str(x) + \".gfastats.core.txt\"\n",
    "    df = pd.read_csv(ftemp, sep = \"\\t\", index_col = 0)\n",
    "    \n",
    "    split_index = [i for i, x in enumerate(df.index) if x == \"1\"][0]\n",
    "    split_index\n",
    "    \n",
    "    # Check what is going on\n",
    "    df_seq = df.iloc[split_index:, :]\n",
    "    \n",
    "    df_seq2 = df.iloc[:split_index-1, :]\n",
    "    df_seq2 = df_seq2.sort_values(\"Sequence[bp]\")\n",
    "    df_seq2.index = [x.split(\"_\")[0] for x in df_seq2.index]\n",
    "    \n",
    "    \n",
    "\n",
    "    dfs.append(df_seq)\n",
    "    dfs2.append(df_seq2)\n",
    "\n",
    "\n"
   ]
  },
  {
   "cell_type": "code",
   "execution_count": 92,
   "id": "888ed507",
   "metadata": {},
   "outputs": [],
   "source": [
    "merged_df = pd.concat(dfs, axis=0, ignore_index=False)\n",
    "merged_df2 = pd.concat(dfs2, axis=0, ignore_index=False)"
   ]
  },
  {
   "cell_type": "code",
   "execution_count": 93,
   "id": "58e85587",
   "metadata": {},
   "outputs": [
    {
     "data": {
      "text/html": [
       "<div>\n",
       "<style scoped>\n",
       "    .dataframe tbody tr th:only-of-type {\n",
       "        vertical-align: middle;\n",
       "    }\n",
       "\n",
       "    .dataframe tbody tr th {\n",
       "        vertical-align: top;\n",
       "    }\n",
       "\n",
       "    .dataframe thead th {\n",
       "        text-align: right;\n",
       "    }\n",
       "</style>\n",
       "<table border=\"1\" class=\"dataframe\">\n",
       "  <thead>\n",
       "    <tr style=\"text-align: right;\">\n",
       "      <th></th>\n",
       "      <th>Sequence[bp]</th>\n",
       "      <th>#Node</th>\n",
       "    </tr>\n",
       "    <tr>\n",
       "      <th>Feature</th>\n",
       "      <th></th>\n",
       "      <th></th>\n",
       "    </tr>\n",
       "  </thead>\n",
       "  <tbody>\n",
       "    <tr>\n",
       "      <th>2</th>\n",
       "      <td>14705602</td>\n",
       "      <td>991950</td>\n",
       "    </tr>\n",
       "    <tr>\n",
       "      <th>3</th>\n",
       "      <td>7876851</td>\n",
       "      <td>585772</td>\n",
       "    </tr>\n",
       "    <tr>\n",
       "      <th>4</th>\n",
       "      <td>5595399</td>\n",
       "      <td>427510</td>\n",
       "    </tr>\n",
       "    <tr>\n",
       "      <th>5</th>\n",
       "      <td>3727281</td>\n",
       "      <td>326331</td>\n",
       "    </tr>\n",
       "    <tr>\n",
       "      <th>6</th>\n",
       "      <td>2883844</td>\n",
       "      <td>265881</td>\n",
       "    </tr>\n",
       "  </tbody>\n",
       "</table>\n",
       "</div>"
      ],
      "text/plain": [
       "         Sequence[bp]   #Node\n",
       "Feature                      \n",
       "2            14705602  991950\n",
       "3             7876851  585772\n",
       "4             5595399  427510\n",
       "5             3727281  326331\n",
       "6             2883844  265881"
      ]
     },
     "execution_count": 93,
     "metadata": {},
     "output_type": "execute_result"
    }
   ],
   "source": [
    "merged_df_sum = merged_df.groupby(merged_df.index, axis=0).sum()\n",
    "merged_df_sum.index = merged_df_sum.index.astype(int)\n",
    "merged_df_sum = merged_df_sum.sort_index()\n",
    "merged_df_sum.to_csv(\"data_created/core/similarity.txt\", sep = \"\\t\")\n",
    "merged_df_sum_red = merged_df_sum.drop(1)\n",
    "merged_df_sum_red.head()"
   ]
  },
  {
   "cell_type": "code",
   "execution_count": 94,
   "id": "e3f9396c",
   "metadata": {},
   "outputs": [
    {
     "data": {
      "text/html": [
       "<div>\n",
       "<style scoped>\n",
       "    .dataframe tbody tr th:only-of-type {\n",
       "        vertical-align: middle;\n",
       "    }\n",
       "\n",
       "    .dataframe tbody tr th {\n",
       "        vertical-align: top;\n",
       "    }\n",
       "\n",
       "    .dataframe thead th {\n",
       "        text-align: right;\n",
       "    }\n",
       "</style>\n",
       "<table border=\"1\" class=\"dataframe\">\n",
       "  <thead>\n",
       "    <tr style=\"text-align: right;\">\n",
       "      <th></th>\n",
       "      <th>Sequence[bp]</th>\n",
       "      <th>#Node</th>\n",
       "    </tr>\n",
       "  </thead>\n",
       "  <tbody>\n",
       "    <tr>\n",
       "      <th>6909</th>\n",
       "      <td>283476</td>\n",
       "      <td>5548</td>\n",
       "    </tr>\n",
       "    <tr>\n",
       "      <th>TAIR10</th>\n",
       "      <td>427822</td>\n",
       "      <td>3884</td>\n",
       "    </tr>\n",
       "    <tr>\n",
       "      <th>10015</th>\n",
       "      <td>880978</td>\n",
       "      <td>38144</td>\n",
       "    </tr>\n",
       "    <tr>\n",
       "      <th>22006</th>\n",
       "      <td>966369</td>\n",
       "      <td>62486</td>\n",
       "    </tr>\n",
       "    <tr>\n",
       "      <th>9888</th>\n",
       "      <td>1000669</td>\n",
       "      <td>79567</td>\n",
       "    </tr>\n",
       "  </tbody>\n",
       "</table>\n",
       "</div>"
      ],
      "text/plain": [
       "        Sequence[bp]  #Node\n",
       "6909          283476   5548\n",
       "TAIR10        427822   3884\n",
       "10015         880978  38144\n",
       "22006         966369  62486\n",
       "9888         1000669  79567"
      ]
     },
     "execution_count": 94,
     "metadata": {},
     "output_type": "execute_result"
    }
   ],
   "source": [
    "merged_df2_sum = merged_df2.groupby(merged_df2.index, axis=0).sum()\n",
    "merged_df2_sum = merged_df2_sum.sort_values(\"Sequence[bp]\")\n",
    "merged_df2_sum.to_csv(\"data_created/core/similarity.private.txt\", sep = \"\\t\")\n",
    "\n",
    "merged_df2_sum.head()"
   ]
  },
  {
   "cell_type": "code",
   "execution_count": 95,
   "id": "a0b6561a",
   "metadata": {},
   "outputs": [
    {
     "ename": "FileNotFoundError",
     "evalue": "[Errno 2] No such file or directory: 'plots/pancore/pancore.seq.png'",
     "output_type": "error",
     "traceback": [
      "\u001B[0;31m---------------------------------------------------------------------------\u001B[0m",
      "\u001B[0;31mFileNotFoundError\u001B[0m                         Traceback (most recent call last)",
      "\u001B[0;32m<ipython-input-95-050cc30ac456>\u001B[0m in \u001B[0;36m<module>\u001B[0;34m\u001B[0m\n\u001B[1;32m     12\u001B[0m \u001B[0mplt\u001B[0m\u001B[0;34m.\u001B[0m\u001B[0mlegend\u001B[0m\u001B[0;34m(\u001B[0m\u001B[0;34m)\u001B[0m\u001B[0;34m\u001B[0m\u001B[0;34m\u001B[0m\u001B[0m\n\u001B[1;32m     13\u001B[0m \u001B[0mplt\u001B[0m\u001B[0;34m.\u001B[0m\u001B[0mxlabel\u001B[0m\u001B[0;34m(\u001B[0m\u001B[0;34m\"Similarity (Number of samples)\"\u001B[0m\u001B[0;34m)\u001B[0m\u001B[0;34m\u001B[0m\u001B[0;34m\u001B[0m\u001B[0m\n\u001B[0;32m---> 14\u001B[0;31m \u001B[0mplt\u001B[0m\u001B[0;34m.\u001B[0m\u001B[0msavefig\u001B[0m\u001B[0;34m(\u001B[0m\u001B[0;34m\"plots/pancore/pancore.seq.png\"\u001B[0m\u001B[0;34m,\u001B[0m \u001B[0mdpi\u001B[0m \u001B[0;34m=\u001B[0m \u001B[0;36m400\u001B[0m\u001B[0;34m)\u001B[0m\u001B[0;34m\u001B[0m\u001B[0;34m\u001B[0m\u001B[0m\n\u001B[0m\u001B[1;32m     15\u001B[0m \u001B[0mplt\u001B[0m\u001B[0;34m.\u001B[0m\u001B[0msavefig\u001B[0m\u001B[0;34m(\u001B[0m\u001B[0;34m\"plots/pancore/pancore.seq.pdf\"\u001B[0m\u001B[0;34m)\u001B[0m\u001B[0;34m\u001B[0m\u001B[0;34m\u001B[0m\u001B[0m\n",
      "\u001B[0;32m~/svorbrugg/tools/miniconda/lib/python3.7/site-packages/matplotlib/pyplot.py\u001B[0m in \u001B[0;36msavefig\u001B[0;34m(*args, **kwargs)\u001B[0m\n\u001B[1;32m    720\u001B[0m \u001B[0;32mdef\u001B[0m \u001B[0msavefig\u001B[0m\u001B[0;34m(\u001B[0m\u001B[0;34m*\u001B[0m\u001B[0margs\u001B[0m\u001B[0;34m,\u001B[0m \u001B[0;34m**\u001B[0m\u001B[0mkwargs\u001B[0m\u001B[0;34m)\u001B[0m\u001B[0;34m:\u001B[0m\u001B[0;34m\u001B[0m\u001B[0;34m\u001B[0m\u001B[0m\n\u001B[1;32m    721\u001B[0m     \u001B[0mfig\u001B[0m \u001B[0;34m=\u001B[0m \u001B[0mgcf\u001B[0m\u001B[0;34m(\u001B[0m\u001B[0;34m)\u001B[0m\u001B[0;34m\u001B[0m\u001B[0;34m\u001B[0m\u001B[0m\n\u001B[0;32m--> 722\u001B[0;31m     \u001B[0mres\u001B[0m \u001B[0;34m=\u001B[0m \u001B[0mfig\u001B[0m\u001B[0;34m.\u001B[0m\u001B[0msavefig\u001B[0m\u001B[0;34m(\u001B[0m\u001B[0;34m*\u001B[0m\u001B[0margs\u001B[0m\u001B[0;34m,\u001B[0m \u001B[0;34m**\u001B[0m\u001B[0mkwargs\u001B[0m\u001B[0;34m)\u001B[0m\u001B[0;34m\u001B[0m\u001B[0;34m\u001B[0m\u001B[0m\n\u001B[0m\u001B[1;32m    723\u001B[0m     \u001B[0mfig\u001B[0m\u001B[0;34m.\u001B[0m\u001B[0mcanvas\u001B[0m\u001B[0;34m.\u001B[0m\u001B[0mdraw_idle\u001B[0m\u001B[0;34m(\u001B[0m\u001B[0;34m)\u001B[0m   \u001B[0;31m# need this if 'transparent=True' to reset colors\u001B[0m\u001B[0;34m\u001B[0m\u001B[0;34m\u001B[0m\u001B[0m\n\u001B[1;32m    724\u001B[0m     \u001B[0;32mreturn\u001B[0m \u001B[0mres\u001B[0m\u001B[0;34m\u001B[0m\u001B[0;34m\u001B[0m\u001B[0m\n",
      "\u001B[0;32m~/svorbrugg/tools/miniconda/lib/python3.7/site-packages/matplotlib/figure.py\u001B[0m in \u001B[0;36msavefig\u001B[0;34m(self, fname, transparent, **kwargs)\u001B[0m\n\u001B[1;32m   2178\u001B[0m             \u001B[0mself\u001B[0m\u001B[0;34m.\u001B[0m\u001B[0mpatch\u001B[0m\u001B[0;34m.\u001B[0m\u001B[0mset_visible\u001B[0m\u001B[0;34m(\u001B[0m\u001B[0mframeon\u001B[0m\u001B[0;34m)\u001B[0m\u001B[0;34m\u001B[0m\u001B[0;34m\u001B[0m\u001B[0m\n\u001B[1;32m   2179\u001B[0m \u001B[0;34m\u001B[0m\u001B[0m\n\u001B[0;32m-> 2180\u001B[0;31m         \u001B[0mself\u001B[0m\u001B[0;34m.\u001B[0m\u001B[0mcanvas\u001B[0m\u001B[0;34m.\u001B[0m\u001B[0mprint_figure\u001B[0m\u001B[0;34m(\u001B[0m\u001B[0mfname\u001B[0m\u001B[0;34m,\u001B[0m \u001B[0;34m**\u001B[0m\u001B[0mkwargs\u001B[0m\u001B[0;34m)\u001B[0m\u001B[0;34m\u001B[0m\u001B[0;34m\u001B[0m\u001B[0m\n\u001B[0m\u001B[1;32m   2181\u001B[0m \u001B[0;34m\u001B[0m\u001B[0m\n\u001B[1;32m   2182\u001B[0m         \u001B[0;32mif\u001B[0m \u001B[0mframeon\u001B[0m\u001B[0;34m:\u001B[0m\u001B[0;34m\u001B[0m\u001B[0;34m\u001B[0m\u001B[0m\n",
      "\u001B[0;32m~/svorbrugg/tools/miniconda/lib/python3.7/site-packages/matplotlib/backend_bases.py\u001B[0m in \u001B[0;36mprint_figure\u001B[0;34m(self, filename, dpi, facecolor, edgecolor, orientation, format, bbox_inches, **kwargs)\u001B[0m\n\u001B[1;32m   2087\u001B[0m                     \u001B[0morientation\u001B[0m\u001B[0;34m=\u001B[0m\u001B[0morientation\u001B[0m\u001B[0;34m,\u001B[0m\u001B[0;34m\u001B[0m\u001B[0;34m\u001B[0m\u001B[0m\n\u001B[1;32m   2088\u001B[0m                     \u001B[0mbbox_inches_restore\u001B[0m\u001B[0;34m=\u001B[0m\u001B[0m_bbox_inches_restore\u001B[0m\u001B[0;34m,\u001B[0m\u001B[0;34m\u001B[0m\u001B[0;34m\u001B[0m\u001B[0m\n\u001B[0;32m-> 2089\u001B[0;31m                     **kwargs)\n\u001B[0m\u001B[1;32m   2090\u001B[0m             \u001B[0;32mfinally\u001B[0m\u001B[0;34m:\u001B[0m\u001B[0;34m\u001B[0m\u001B[0;34m\u001B[0m\u001B[0m\n\u001B[1;32m   2091\u001B[0m                 \u001B[0;32mif\u001B[0m \u001B[0mbbox_inches\u001B[0m \u001B[0;32mand\u001B[0m \u001B[0mrestore_bbox\u001B[0m\u001B[0;34m:\u001B[0m\u001B[0;34m\u001B[0m\u001B[0;34m\u001B[0m\u001B[0m\n",
      "\u001B[0;32m~/svorbrugg/tools/miniconda/lib/python3.7/site-packages/matplotlib/backends/backend_agg.py\u001B[0m in \u001B[0;36mprint_png\u001B[0;34m(self, filename_or_obj, metadata, pil_kwargs, *args, **kwargs)\u001B[0m\n\u001B[1;32m    528\u001B[0m             \u001B[0mrenderer\u001B[0m \u001B[0;34m=\u001B[0m \u001B[0mself\u001B[0m\u001B[0;34m.\u001B[0m\u001B[0mget_renderer\u001B[0m\u001B[0;34m(\u001B[0m\u001B[0;34m)\u001B[0m\u001B[0;34m\u001B[0m\u001B[0;34m\u001B[0m\u001B[0m\n\u001B[1;32m    529\u001B[0m             \u001B[0;32mwith\u001B[0m \u001B[0mcbook\u001B[0m\u001B[0;34m.\u001B[0m\u001B[0m_setattr_cm\u001B[0m\u001B[0;34m(\u001B[0m\u001B[0mrenderer\u001B[0m\u001B[0;34m,\u001B[0m \u001B[0mdpi\u001B[0m\u001B[0;34m=\u001B[0m\u001B[0mself\u001B[0m\u001B[0;34m.\u001B[0m\u001B[0mfigure\u001B[0m\u001B[0;34m.\u001B[0m\u001B[0mdpi\u001B[0m\u001B[0;34m)\u001B[0m\u001B[0;34m,\u001B[0m\u001B[0;31m \u001B[0m\u001B[0;31m\\\u001B[0m\u001B[0;34m\u001B[0m\u001B[0;34m\u001B[0m\u001B[0m\n\u001B[0;32m--> 530\u001B[0;31m                     \u001B[0mcbook\u001B[0m\u001B[0;34m.\u001B[0m\u001B[0mopen_file_cm\u001B[0m\u001B[0;34m(\u001B[0m\u001B[0mfilename_or_obj\u001B[0m\u001B[0;34m,\u001B[0m \u001B[0;34m\"wb\"\u001B[0m\u001B[0;34m)\u001B[0m \u001B[0;32mas\u001B[0m \u001B[0mfh\u001B[0m\u001B[0;34m:\u001B[0m\u001B[0;34m\u001B[0m\u001B[0;34m\u001B[0m\u001B[0m\n\u001B[0m\u001B[1;32m    531\u001B[0m                 _png.write_png(renderer._renderer, fh,\n\u001B[1;32m    532\u001B[0m                                self.figure.dpi, metadata=metadata)\n",
      "\u001B[0;32m~/svorbrugg/tools/miniconda/lib/python3.7/contextlib.py\u001B[0m in \u001B[0;36m__enter__\u001B[0;34m(self)\u001B[0m\n\u001B[1;32m    110\u001B[0m         \u001B[0;32mdel\u001B[0m \u001B[0mself\u001B[0m\u001B[0;34m.\u001B[0m\u001B[0margs\u001B[0m\u001B[0;34m,\u001B[0m \u001B[0mself\u001B[0m\u001B[0;34m.\u001B[0m\u001B[0mkwds\u001B[0m\u001B[0;34m,\u001B[0m \u001B[0mself\u001B[0m\u001B[0;34m.\u001B[0m\u001B[0mfunc\u001B[0m\u001B[0;34m\u001B[0m\u001B[0;34m\u001B[0m\u001B[0m\n\u001B[1;32m    111\u001B[0m         \u001B[0;32mtry\u001B[0m\u001B[0;34m:\u001B[0m\u001B[0;34m\u001B[0m\u001B[0;34m\u001B[0m\u001B[0m\n\u001B[0;32m--> 112\u001B[0;31m             \u001B[0;32mreturn\u001B[0m \u001B[0mnext\u001B[0m\u001B[0;34m(\u001B[0m\u001B[0mself\u001B[0m\u001B[0;34m.\u001B[0m\u001B[0mgen\u001B[0m\u001B[0;34m)\u001B[0m\u001B[0;34m\u001B[0m\u001B[0;34m\u001B[0m\u001B[0m\n\u001B[0m\u001B[1;32m    113\u001B[0m         \u001B[0;32mexcept\u001B[0m \u001B[0mStopIteration\u001B[0m\u001B[0;34m:\u001B[0m\u001B[0;34m\u001B[0m\u001B[0;34m\u001B[0m\u001B[0m\n\u001B[1;32m    114\u001B[0m             \u001B[0;32mraise\u001B[0m \u001B[0mRuntimeError\u001B[0m\u001B[0;34m(\u001B[0m\u001B[0;34m\"generator didn't yield\"\u001B[0m\u001B[0;34m)\u001B[0m \u001B[0;32mfrom\u001B[0m \u001B[0;32mNone\u001B[0m\u001B[0;34m\u001B[0m\u001B[0;34m\u001B[0m\u001B[0m\n",
      "\u001B[0;32m~/svorbrugg/tools/miniconda/lib/python3.7/site-packages/matplotlib/cbook/__init__.py\u001B[0m in \u001B[0;36mopen_file_cm\u001B[0;34m(path_or_file, mode, encoding)\u001B[0m\n\u001B[1;32m    445\u001B[0m \u001B[0;32mdef\u001B[0m \u001B[0mopen_file_cm\u001B[0m\u001B[0;34m(\u001B[0m\u001B[0mpath_or_file\u001B[0m\u001B[0;34m,\u001B[0m \u001B[0mmode\u001B[0m\u001B[0;34m=\u001B[0m\u001B[0;34m\"r\"\u001B[0m\u001B[0;34m,\u001B[0m \u001B[0mencoding\u001B[0m\u001B[0;34m=\u001B[0m\u001B[0;32mNone\u001B[0m\u001B[0;34m)\u001B[0m\u001B[0;34m:\u001B[0m\u001B[0;34m\u001B[0m\u001B[0;34m\u001B[0m\u001B[0m\n\u001B[1;32m    446\u001B[0m     \u001B[0;34mr\"\"\"Pass through file objects and context-manage `.PathLike`\\s.\"\"\"\u001B[0m\u001B[0;34m\u001B[0m\u001B[0;34m\u001B[0m\u001B[0m\n\u001B[0;32m--> 447\u001B[0;31m     \u001B[0mfh\u001B[0m\u001B[0;34m,\u001B[0m \u001B[0mopened\u001B[0m \u001B[0;34m=\u001B[0m \u001B[0mto_filehandle\u001B[0m\u001B[0;34m(\u001B[0m\u001B[0mpath_or_file\u001B[0m\u001B[0;34m,\u001B[0m \u001B[0mmode\u001B[0m\u001B[0;34m,\u001B[0m \u001B[0;32mTrue\u001B[0m\u001B[0;34m,\u001B[0m \u001B[0mencoding\u001B[0m\u001B[0;34m)\u001B[0m\u001B[0;34m\u001B[0m\u001B[0;34m\u001B[0m\u001B[0m\n\u001B[0m\u001B[1;32m    448\u001B[0m     \u001B[0;32mif\u001B[0m \u001B[0mopened\u001B[0m\u001B[0;34m:\u001B[0m\u001B[0;34m\u001B[0m\u001B[0;34m\u001B[0m\u001B[0m\n\u001B[1;32m    449\u001B[0m         \u001B[0;32mwith\u001B[0m \u001B[0mfh\u001B[0m\u001B[0;34m:\u001B[0m\u001B[0;34m\u001B[0m\u001B[0;34m\u001B[0m\u001B[0m\n",
      "\u001B[0;32m~/svorbrugg/tools/miniconda/lib/python3.7/site-packages/matplotlib/cbook/__init__.py\u001B[0m in \u001B[0;36mto_filehandle\u001B[0;34m(fname, flag, return_opened, encoding)\u001B[0m\n\u001B[1;32m    430\u001B[0m             \u001B[0mfh\u001B[0m \u001B[0;34m=\u001B[0m \u001B[0mbz2\u001B[0m\u001B[0;34m.\u001B[0m\u001B[0mBZ2File\u001B[0m\u001B[0;34m(\u001B[0m\u001B[0mfname\u001B[0m\u001B[0;34m,\u001B[0m \u001B[0mflag\u001B[0m\u001B[0;34m)\u001B[0m\u001B[0;34m\u001B[0m\u001B[0;34m\u001B[0m\u001B[0m\n\u001B[1;32m    431\u001B[0m         \u001B[0;32melse\u001B[0m\u001B[0;34m:\u001B[0m\u001B[0;34m\u001B[0m\u001B[0;34m\u001B[0m\u001B[0m\n\u001B[0;32m--> 432\u001B[0;31m             \u001B[0mfh\u001B[0m \u001B[0;34m=\u001B[0m \u001B[0mopen\u001B[0m\u001B[0;34m(\u001B[0m\u001B[0mfname\u001B[0m\u001B[0;34m,\u001B[0m \u001B[0mflag\u001B[0m\u001B[0;34m,\u001B[0m \u001B[0mencoding\u001B[0m\u001B[0;34m=\u001B[0m\u001B[0mencoding\u001B[0m\u001B[0;34m)\u001B[0m\u001B[0;34m\u001B[0m\u001B[0;34m\u001B[0m\u001B[0m\n\u001B[0m\u001B[1;32m    433\u001B[0m         \u001B[0mopened\u001B[0m \u001B[0;34m=\u001B[0m \u001B[0;32mTrue\u001B[0m\u001B[0;34m\u001B[0m\u001B[0;34m\u001B[0m\u001B[0m\n\u001B[1;32m    434\u001B[0m     \u001B[0;32melif\u001B[0m \u001B[0mhasattr\u001B[0m\u001B[0;34m(\u001B[0m\u001B[0mfname\u001B[0m\u001B[0;34m,\u001B[0m \u001B[0;34m'seek'\u001B[0m\u001B[0;34m)\u001B[0m\u001B[0;34m:\u001B[0m\u001B[0;34m\u001B[0m\u001B[0;34m\u001B[0m\u001B[0m\n",
      "\u001B[0;31mFileNotFoundError\u001B[0m: [Errno 2] No such file or directory: 'plots/pancore/pancore.seq.png'"
     ]
    },
    {
     "data": {
      "image/png": "[encoded data removed]",
      "text/plain": [
       "<Figure size 640x480 with 1 Axes>"
      ]
     },
     "metadata": {},
     "output_type": "display_data"
    }
   ],
   "source": [
    "# This is the plot for one chromosome (sequence)\n",
    "plt.bar([int(x) for x in merged_df_sum_red.index], merged_df_sum_red[\"Sequence[bp]\"]/1000000, edgecolor = \"black\", linewidth = 0.5, color = \"tomato\", label = \"Soft\")\n",
    "plt.bar([int(x) for x in merged_df_sum_red.index][-1], merged_df_sum_red[\"Sequence[bp]\"].values[-1]/1000000, edgecolor = \"black\", linewidth = 0.5, color = \"royalblue\", label = \"Core\")\n",
    "\n",
    "bottom1 = 0\n",
    "for x in merged_df2_sum.iterrows():\n",
    "    plt.bar(1, (x[1][\"Sequence[bp]\"]/1000000), color = \"gold\", bottom = bottom1, edgecolor = \"black\", linewidth = 0.5)\n",
    "    bottom1 += int(x[1][\"Sequence[bp]\"]/1000000)\n",
    "plt.bar(1, (x[1][\"Sequence[bp]\"]/1000000), color = \"gold\", bottom = bottom1, edgecolor = \"black\", linewidth = 0.5, label = \"Private\")\n",
    "\n",
    "plt.ylabel(\"Sequence [bp]\")\n",
    "plt.legend()\n",
    "plt.xlabel(\"Similarity (Number of samples)\")\n",
    "plt.savefig(\"plots/pancore/pancore.seq.png\", dpi = 400)\n",
    "plt.savefig(\"plots/pancore/pancore.seq.pdf\")"
   ]
  },
  {
   "cell_type": "code",
   "execution_count": null,
   "id": "7f6ed01c",
   "metadata": {},
   "outputs": [],
   "source": [
    "# This is the plot for one chromosome (Node)\n",
    "plt.bar([int(x) for x in merged_df_sum_red.index], merged_df_sum_red[\"#Node\"], edgecolor = \"black\", linewidth = 0.5, color = \"tomato\", label = \"Soft\")\n",
    "plt.bar([int(x) for x in merged_df_sum_red.index][-1], merged_df_sum_red[\"#Node\"].values[-1], edgecolor = \"black\", linewidth = 0.5, color = \"royalblue\", label = \"Core\")\n",
    "\n",
    "bottom1 = 0\n",
    "for x in merged_df2_sum.iterrows():\n",
    "    plt.bar(1, (x[1][\"#Node\"]), color = \"gold\", bottom = bottom1, edgecolor = \"black\", linewidth = 0.5)\n",
    "    bottom1 += int(x[1][\"#Node\"])\n",
    "plt.bar(1, (x[1][\"#Node\"]), color = \"gold\", bottom = bottom1, edgecolor = \"black\", linewidth = 0.5, label = \"Private\")\n",
    "\n",
    "plt.ylabel(\"#Nodes\")\n",
    "plt.legend()\n",
    "plt.xlabel(\"Similarity (Number of samples)\")\n",
    "plt.savefig(\"plots/pancore/pancore.node.png\", dpi = 400)\n",
    "plt.savefig(\"plots/pancore/pancore.node.pdf\")"
   ]
  },
  {
   "cell_type": "code",
   "execution_count": null,
   "id": "7026385b",
   "metadata": {},
   "outputs": [],
   "source": [
    "merged_df2_sum"
   ]
  },
  {
   "cell_type": "code",
   "execution_count": null,
   "id": "8bb85249",
   "metadata": {},
   "outputs": [],
   "source": [
    "merged_df_sum.sum()"
   ]
  },
  {
   "cell_type": "code",
   "execution_count": null,
   "id": "57b33f1e",
   "metadata": {},
   "outputs": [],
   "source": [
    "# Get the different amounts (sequence)\n",
    "private = merged_df_sum[\"Sequence[bp]\"].values[0]\n",
    "soft = sum(merged_df_sum[\"Sequence[bp]\"].values[1:-1])\n",
    "core = merged_df_sum[\"Sequence[bp]\"].values[-1]\n",
    "print(private, soft, core)\n",
    "print(sum([private, soft, core]))\n",
    "stotal = [private, soft, core]"
   ]
  },
  {
   "cell_type": "code",
   "execution_count": null,
   "id": "1a9632ae",
   "metadata": {},
   "outputs": [],
   "source": [
    "# Plot the pie\n",
    "plt.pie([private, soft, core], autopct='%1.1f%%', startangle=140,\n",
    "       wedgeprops = {\"edgecolor\" : \"black\",\n",
    "                      'linewidth': 1.5,\n",
    "                      'antialiased': True}, colors = [\"Gold\", \"Tomato\", \"Royalblue\"],\n",
    "        pctdistance=1.2); \n",
    "plt.savefig(\"plots/pancore/pie.total.seq.png\", dpi = 400)\n",
    "plt.savefig(\"plots/pancore/pie.total.seq.pdf\")"
   ]
  },
  {
   "cell_type": "code",
   "execution_count": null,
   "id": "8e9edf7c",
   "metadata": {},
   "outputs": [],
   "source": [
    "# Get the different amounts (node)\n",
    "node_private = merged_df_sum[\"#Node\"].values[0]\n",
    "node_soft = sum(merged_df_sum[\"#Node\"].values[1:-1])\n",
    "node_core = merged_df_sum[\"#Node\"].values[-1]\n",
    "print(node_private,node_soft, node_core)\n",
    "ntotal = [node_private, node_soft, node_core]"
   ]
  },
  {
   "cell_type": "code",
   "execution_count": null,
   "id": "82d4cd62",
   "metadata": {},
   "outputs": [],
   "source": [
    "# Plot the pie\n",
    "plt.pie([node_private, node_soft, node_core], autopct='%1.1f%%', startangle=140, \n",
    "              wedgeprops = {\"edgecolor\" : \"black\",\n",
    "                      'linewidth': 1.5,\n",
    "                      'antialiased': True}, \n",
    "        colors = [\"Gold\", \"Tomato\", \"Royalblue\"],\n",
    "        pctdistance=1.2)\n",
    "plt.savefig(\"plots/pancore/pie.total.node.png\", dpi = 400)\n",
    "plt.savefig(\"plots/pancore/pie.total.node.pdf\")"
   ]
  },
  {
   "cell_type": "code",
   "execution_count": null,
   "id": "8a34eca4",
   "metadata": {},
   "outputs": [],
   "source": []
  },
  {
   "cell_type": "code",
   "execution_count": null,
   "id": "c2f346c6",
   "metadata": {},
   "outputs": [],
   "source": [
    "# Normalize the values accordingly \n",
    "private_norm = merged_df_sum[\"Sequence[bp]\"].values[0]/28\n",
    "soft_norm = sum([x * ((i+2)/28) for i,x in enumerate(merged_df_sum[\"Sequence[bp]\"].values[1:-1])])\n",
    "core_norm = merged_df_sum[\"Sequence[bp]\"].values[-1]\n",
    "print(private_norm, soft_norm, core_norm)\n",
    "snorm = [private_norm, soft_norm, core_norm]"
   ]
  },
  {
   "cell_type": "code",
   "execution_count": null,
   "id": "2a4787c8",
   "metadata": {},
   "outputs": [],
   "source": [
    "# Plot the pie\n",
    "plt.pie([private_norm, soft_norm, core_norm], autopct='%1.1f%%', startangle=140,\n",
    "       wedgeprops = {\"edgecolor\" : \"black\",\n",
    "                      'linewidth': 1.5,\n",
    "                      'antialiased': True}, colors = [\"Gold\", \"Tomato\", \"Royalblue\"],\n",
    "        pctdistance=1.2)\n",
    "plt.savefig(\"plots/pancore/pie.acc.seq.png\", dpi = 400)\n",
    "plt.savefig(\"plots/pancore/pie.acc.seq.pdf\")"
   ]
  },
  {
   "cell_type": "code",
   "execution_count": null,
   "id": "05a75e4e",
   "metadata": {},
   "outputs": [],
   "source": [
    "# Normalize the values accordingly \n",
    "private_norm = merged_df_sum[\"#Node\"].values[0]/28\n",
    "soft_norm = sum([x * ((i+2)/28) for i,x in enumerate(merged_df_sum[\"#Node\"].values[1:-1])])\n",
    "core_norm = merged_df_sum[\"#Node\"].values[-1]\n",
    "print(private_norm, soft_norm, core_norm)\n",
    "nnorm = [private_norm, soft_norm, core_norm]"
   ]
  },
  {
   "cell_type": "code",
   "execution_count": null,
   "id": "7b1967ac",
   "metadata": {},
   "outputs": [],
   "source": [
    "# Plot the pie\n",
    "plt.pie([private_norm, soft_norm, core_norm], autopct='%1.1f%%', startangle=140,\n",
    "       wedgeprops = {\"edgecolor\" : \"black\",\n",
    "                      'linewidth': 1.5,\n",
    "                      'antialiased': True}, colors = [\"Gold\", \"Tomato\", \"Royalblue\"],\n",
    "        pctdistance=1.2)\n",
    "plt.savefig(\"plots/pancore/pie.acc.node.png\", dpi = 400)\n",
    "plt.savefig(\"plots/pancore/pie.acc.node.pdf\")"
   ]
  },
  {
   "cell_type": "code",
   "execution_count": null,
   "id": "d302f095",
   "metadata": {},
   "outputs": [],
   "source": [
    "p = pd.DataFrame([stotal, ntotal, snorm, nnorm])\n",
    "p.columns = [\"Private\", \"Soft\", \"Private\"]\n",
    "pindex = [\"Sequence total\", \"Node total\", \"Sequence norm\", \"Node norm\"]\n",
    "p.to_csv(\"data_created/core/pie.csv\", sep = \"\\t\")"
   ]
  },
  {
   "cell_type": "code",
   "execution_count": null,
   "id": "9cb491cc",
   "metadata": {},
   "outputs": [],
   "source": []
  },
  {
   "cell_type": "code",
   "execution_count": null,
   "id": "cee3891a",
   "metadata": {},
   "outputs": [],
   "source": []
  }
 ],
 "metadata": {
  "kernelspec": {
   "display_name": "Python 3",
   "language": "python",
   "name": "python3"
  },
  "language_info": {
   "codemirror_mode": {
    "name": "ipython",
    "version": 3
   },
   "file_extension": ".py",
   "mimetype": "text/x-python",
   "name": "python",
   "nbconvert_exporter": "python",
   "pygments_lexer": "ipython3",
   "version": "3.7.3"
  }
 },
 "nbformat": 4,
 "nbformat_minor": 5
}
